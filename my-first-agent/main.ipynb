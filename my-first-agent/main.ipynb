{
 "cells": [
  {
   "cell_type": "code",
   "execution_count": 39,
   "id": "3f06031b",
   "metadata": {},
   "outputs": [],
   "source": [
    "import openai, json\n",
    "\n",
    "client = openai.OpenAI()\n",
    "messages = []\n"
   ]
  },
  {
   "cell_type": "code",
   "execution_count": 40,
   "id": "898b2502",
   "metadata": {},
   "outputs": [],
   "source": [
    "def get_weather(city):\n",
    "    return \"33 degrees celsius\"\n",
    "\n",
    "FUNCTION_MAP = {\n",
    "    \"get_weather\": get_weather\n",
    "}"
   ]
  },
  {
   "cell_type": "code",
   "execution_count": 41,
   "id": "07c580f4",
   "metadata": {},
   "outputs": [],
   "source": [
    "\n",
    "TOOLS = [\n",
    "    {\n",
    "        \"type\": \"function\",\n",
    "        \"function\": {\n",
    "            \"name\": \"get_weather\",\n",
    "            \"description\": \"Get the weather of a city\",\n",
    "            \"parameters\": {\n",
    "                \"type\": \"object\",\n",
    "                \"properties\": {\n",
    "                    \"city\": {\n",
    "                        \"type\": \"string\",\n",
    "                        \"description\": \"The name of the city to get the weather of\"\n",
    "                    }\n",
    "                },\n",
    "                \"required\": [\"city\"]\n",
    "            }\n",
    "        }\n",
    "    }\n",
    "]"
   ]
  },
  {
   "cell_type": "code",
   "execution_count": 42,
   "id": "0d7d3c8c",
   "metadata": {},
   "outputs": [],
   "source": [
    "from openai.types.chat import ChatCompletionMessage\n",
    "\n",
    "def process_ai_response(message: ChatCompletionMessage):\n",
    "    if message.tool_calls:\n",
    "        messages.append({\n",
    "            \"role\": \"assistant\",\n",
    "            \"content\": message.content or \"\",\n",
    "            \"tool_calls\": [{\n",
    "                \"id\": tool_call.id,\n",
    "                \"type\": \"function\",\n",
    "                \"function\": {\n",
    "                    \"name\": tool_call.function.name,\n",
    "                    \"arguments\": tool_call.function.arguments,\n",
    "                    },\n",
    "                } for tool_call in message.tool_calls]\n",
    "            }\n",
    "        )\n",
    "        for tool_call in message.tool_calls:\n",
    "            function_name = tool_call.function.name\n",
    "            arguments = tool_call.function.arguments\n",
    "\n",
    "            print(f\"Calling function: {function_name} with {arguments}\")\n",
    "\n",
    "            try:\n",
    "                arguments = json.loads(arguments)\n",
    "            except json.JSONDecodeError:\n",
    "                arguments = {}\n",
    "\n",
    "            function_to_run = FUNCTION_MAP.get(function_name)\n",
    "            \n",
    "            result = function_to_run(**arguments)\n",
    "\n",
    "            print(f\"Ran {function_name} with args {arguments} for a result of {result}\")\n",
    "            \n",
    "            messages.append({\n",
    "                \"role\": \"tool\",\n",
    "                \"tool_call_id\": tool_call.id,\n",
    "                \"name\": function_name,\n",
    "                \"content\": result,\n",
    "            })\n",
    "\n",
    "        call_ai()\n",
    "    else:\n",
    "        messages.append({\n",
    "            \"role\": \"assistant\",\n",
    "            \"content\": message.content,\n",
    "        })\n",
    "        print(f\"AI: {message.content}\")\n",
    "\n",
    "\n",
    "def call_ai():\n",
    "    response = client.chat.completions.create(\n",
    "        model=\"gpt-4o-mini\",\n",
    "        messages=messages,\n",
    "        tools=TOOLS,\n",
    "    )\n",
    "    process_ai_response(response.choices[0].message)"
   ]
  },
  {
   "cell_type": "code",
   "execution_count": 43,
   "id": "0811cfe6",
   "metadata": {},
   "outputs": [
    {
     "name": "stdout",
     "output_type": "stream",
     "text": [
      "User: My name is Mijong\n",
      "AI: Nice to meet you, Mijong! How can I assist you today?\n",
      "User: What is my name\n",
      "AI: Your name is Mijong.\n",
      "User: What is the weather in Spain\n",
      "Calling function: get_weather with {\"city\":\"Spain\"}\n",
      "Ran get_weather with args {'city': 'Spain'} for a result of 33 degrees celsius\n",
      "AI: The current weather in Spain is 33 degrees Celsius. Do you need weather information for a specific city in Spain?\n",
      "User: \n",
      "AI: It seems your message got cut off. How can I assist you further?\n",
      "User: \n",
      "AI: It looks like there hasn't been any message from you. If you have any questions or if there's anything you'd like to know, feel free to ask!\n"
     ]
    }
   ],
   "source": [
    "while True:\n",
    "    message = input(\"Send a message to the LLM...\")\n",
    "    if message == \"quit\" or message == \"q\":\n",
    "        break\n",
    "    else:\n",
    "        messages.append({\n",
    "            \"role\": \"user\", \n",
    "            \"content\": message\n",
    "        })\n",
    "        print(f\"User: {message}\")\n",
    "        call_ai()\n"
   ]
  },
  {
   "cell_type": "code",
   "execution_count": 44,
   "id": "83656d60",
   "metadata": {},
   "outputs": [
    {
     "data": {
      "text/plain": [
       "[{'role': 'user', 'content': 'My name is Mijong'},\n",
       " {'role': 'assistant',\n",
       "  'content': 'Nice to meet you, Mijong! How can I assist you today?'},\n",
       " {'role': 'user', 'content': 'What is my name'},\n",
       " {'role': 'assistant', 'content': 'Your name is Mijong.'},\n",
       " {'role': 'user', 'content': 'What is the weather in Spain'},\n",
       " {'role': 'assistant',\n",
       "  'content': '',\n",
       "  'tool_calls': [{'id': 'call_oomvup0Bm0mHvVviviTqT6Vd',\n",
       "    'type': 'function',\n",
       "    'function': {'name': 'get_weather', 'arguments': '{\"city\":\"Spain\"}'}}]},\n",
       " {'role': 'tool',\n",
       "  'tool_call_id': 'call_oomvup0Bm0mHvVviviTqT6Vd',\n",
       "  'name': 'get_weather',\n",
       "  'content': '33 degrees celsius'},\n",
       " {'role': 'assistant',\n",
       "  'content': 'The current weather in Spain is 33 degrees Celsius. Do you need weather information for a specific city in Spain?'},\n",
       " {'role': 'user', 'content': ''},\n",
       " {'role': 'assistant',\n",
       "  'content': 'It seems your message got cut off. How can I assist you further?'},\n",
       " {'role': 'user', 'content': ''},\n",
       " {'role': 'assistant',\n",
       "  'content': \"It looks like there hasn't been any message from you. If you have any questions or if there's anything you'd like to know, feel free to ask!\"}]"
      ]
     },
     "execution_count": 44,
     "metadata": {},
     "output_type": "execute_result"
    }
   ],
   "source": [
    "messages"
   ]
  },
  {
   "cell_type": "code",
   "execution_count": null,
   "id": "939d214a",
   "metadata": {},
   "outputs": [],
   "source": [
    "ChatCompletion(\n",
    "    id='chatcmpl-CSjyiQrhimRGHcSGqrKhtlbkp9Jel', \n",
    "    choices=[\n",
    "        Choice(finish_reason='tool_calls', index=0, logprobs=None, message=ChatCompletionMessage(content=None, refusal=None, role='assistant', annotations=[], audio=None, function_call=None, tool_calls=[\n",
    "            ChatCompletionMessageFunctionToolCall(\n",
    "                id='call_JZWcB2PBvrN02dj5CrKXVVc0', \n",
    "                function=Function(\n",
    "                    arguments='{\"city\":\"Spain\"}', name='get_weather'), type='function')]))], created=1760965960, model='gpt-4o-mini-2024-07-18', object='chat.completion', service_tier='default', system_fingerprint='fp_560af6e559', usage=CompletionUsage(completion_tokens=14, prompt_tokens=93, total_tokens=107, completion_tokens_details=CompletionTokensDetails(accepted_prediction_tokens=0, audio_tokens=0, reasoning_tokens=0, rejected_prediction_tokens=0), prompt_tokens_details=PromptTokensDetails(audio_tokens=0, cached_tokens=0)))\n"
   ]
  }
 ],
 "metadata": {
  "kernelspec": {
   "display_name": ".venv",
   "language": "python",
   "name": "python3"
  },
  "language_info": {
   "codemirror_mode": {
    "name": "ipython",
    "version": 3
   },
   "file_extension": ".py",
   "mimetype": "text/x-python",
   "name": "python",
   "nbconvert_exporter": "python",
   "pygments_lexer": "ipython3",
   "version": "3.11.11"
  }
 },
 "nbformat": 4,
 "nbformat_minor": 5
}
